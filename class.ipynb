{
 "metadata": {
  "language_info": {
   "codemirror_mode": {
    "name": "ipython",
    "version": 3
   },
   "file_extension": ".py",
   "mimetype": "text/x-python",
   "name": "python",
   "nbconvert_exporter": "python",
   "pygments_lexer": "ipython3",
   "version": "3.9.4"
  },
  "orig_nbformat": 4,
  "kernelspec": {
   "name": "python3",
   "display_name": "Python 3.9.4 64-bit"
  },
  "interpreter": {
   "hash": "cf2be2a33dd71f995549108825127f0d77f91b0b82c0bf9829b18b4885ce616c"
  }
 },
 "nbformat": 4,
 "nbformat_minor": 2,
 "cells": [
  {
   "cell_type": "code",
   "execution_count": 1,
   "metadata": {},
   "outputs": [],
   "source": [
    "import turtle\n",
    "\n",
    "class Polygon:\n",
    "\tdef __init__(self, sides, name, size=100, color=\"black\", line_thickness=3):\n",
    "\t\tself.sides = sides\n",
    "\t\tself.name = name\n",
    "\t\tself.size = size\n",
    "\t\tself.color = color\n",
    "\t\tself.line_thickness = line_thickness\n",
    "\t\tself.interior_angles = (self.sides-2)*180\n",
    "\t\tself.angle = self.interior_angles/self.sides\n",
    "\n",
    "\tdef draw(self):\n",
    "\t\tturtle.color(self.color)\n",
    "\t\tturtle.pensize(self.line_thickness)\n",
    "\t\tfor i in range(self.sides):\n",
    "\t\t\tturtle.forward(self.size)\n",
    "\t\t\tturtle.right(180-self.angle)\n",
    "\n",
    "class Square(Polygon):\n",
    "\tdef __init__(self, size=100, color=\"black\", line_thickness=3):\n",
    "\t\tsuper().__init__(4, \"Square\", size, color, line_thickness)\n",
    "\n",
    "\tdef draw(self):\n",
    "\t\tturtle.begin_fill()\n",
    "\t\tsuper().draw()\n",
    "\t\tturtle.end_fill()\n",
    "\n",
    "if __name__ == \"__main__\":\n",
    "\tsquare = Square(size=300, color=\"#abcdef\")\n",
    "\tsquare.draw()\n",
    "\tturtle.done()"
   ]
  },
  {
   "cell_type": "code",
   "execution_count": null,
   "metadata": {},
   "outputs": [],
   "source": []
  }
 ]
}